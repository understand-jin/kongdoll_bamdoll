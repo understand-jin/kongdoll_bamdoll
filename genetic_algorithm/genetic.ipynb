{
 "cells": [
  {
   "cell_type": "code",
   "execution_count": 8,
   "metadata": {},
   "outputs": [],
   "source": [
    "import numpy as np\n",
    "import random\n",
    "import time\n",
    "from itertools import permutations\n",
    "from util import Bundle, solution_check, select_two_bundles, try_merging_bundles, get_total_distance, get_total_volume, test_route_feasibility, get_cheaper_available_riders, try_bundle_rider_changing\n",
    "from first_version_simple import algorithm"
   ]
  },
  {
   "cell_type": "markdown",
   "metadata": {},
   "source": [
    "1. Initial solution generation (num : 50)"
   ]
  },
  {
   "cell_type": "code",
   "execution_count": 9,
   "metadata": {},
   "outputs": [],
   "source": [
    "def initialize_population(K, all_orders, all_riders, dist_mat, population_size=50, timelimit=10):\n",
    "    population = []\n",
    "    for _ in range(population_size):\n",
    "        solution = algorithm(K, all_orders, all_riders, dist_mat, timelimit)\n",
    "        population.append(solution)\n",
    "    return population"
   ]
  },
  {
   "cell_type": "markdown",
   "metadata": {},
   "source": [
    "2. Fitness definition"
   ]
  },
  {
   "cell_type": "code",
   "execution_count": 10,
   "metadata": {},
   "outputs": [],
   "source": [
    "def fitness(solution, K, all_orders, all_riders, dist_mat):\n",
    "    checked_solution = solution_check(K, all_orders, all_riders, dist_mat, solution)\n",
    "    if checked_solution['feasible']:\n",
    "        return checked_solution['total_cost'] / K  # 목적함수: 총 비용을 주문 수로 나눈 값\n",
    "    else:\n",
    "        return float('inf')  # 유효하지 않은 해의 경우 무한대 비용 반환"
   ]
  },
  {
   "cell_type": "markdown",
   "metadata": {},
   "source": [
    "3. Selection considering fitness"
   ]
  },
  {
   "cell_type": "code",
   "execution_count": 11,
   "metadata": {},
   "outputs": [],
   "source": [
    "def select_population(population, population_fitness, num_selections):\n",
    "    #1. 적합도 값이 무한대가 아닌 해 들의 역수의 합을 계산함\n",
    "    total_fitness = sum(1 / f for f in population_fitness if f != float('inf')) \n",
    "    #2. 각 해의 선택 확률을 계산함\n",
    "    selection_probs = [(1 / f) / total_fitness if f != float('inf') else 0 for f in population_fitness]\n",
    "    #3. 주어진 확률에 따라 해를 선택함\n",
    "    selected_population = random.choices(population, weights=selection_probs, k=num_selections)\n",
    "    return selected_population\n"
   ]
  },
  {
   "cell_type": "markdown",
   "metadata": {},
   "source": [
    "4. CrossOver(we have to check if child is feasible or not after corssover)"
   ]
  },
  {
   "cell_type": "code",
   "execution_count": 12,
   "metadata": {},
   "outputs": [],
   "source": [
    "def crossover(parent1, parent2, K, all_orders, dist_mat):\n",
    "    max_attempts = 10  # 최대 시도 횟수 설정\n",
    "    attempts = 0\n",
    "    \n",
    "    while attempts < max_attempts:\n",
    "        # 교차점 선택\n",
    "        crossover_point = random.randint(1, len(parent1) - 1)\n",
    "        \n",
    "        # 부모 해로부터 자식 해 생성\n",
    "        child1 = parent1[:crossover_point] + parent2[crossover_point:]\n",
    "        child2 = parent2[:crossover_point] + parent1[crossover_point:]\n",
    "        \n",
    "        # 자식 해가 유효한지 확인\n",
    "        if is_feasible(child1, K, all_orders, dist_mat) and is_feasible(child2, K, all_orders, dist_mat):\n",
    "            return child1, child2\n",
    "        \n",
    "        attempts += 1\n",
    "    \n",
    "    # 최대 시도 횟수를 초과한 경우 부모 해를 반환\n",
    "    return parent1, parent2\n",
    "\n",
    "\n",
    "def is_feasible(solution, K, all_orders, dist_mat):\n",
    "    for bundle_info in solution:\n",
    "        rider = bundle_info[0]\n",
    "        shop_seq = bundle_info[1]\n",
    "        dlv_seq = bundle_info[2]\n",
    "\n",
    "        # 경로 유효성 테스트\n",
    "        if test_route_feasibility(all_orders, rider, shop_seq, dlv_seq) != 0:\n",
    "            return False\n",
    "    return True"
   ]
  },
  {
   "cell_type": "markdown",
   "metadata": {},
   "source": [
    "5. Mutation"
   ]
  },
  {
   "cell_type": "code",
   "execution_count": 13,
   "metadata": {},
   "outputs": [],
   "source": [
    "def mutate(solution, K, all_orders, all_riders, dist_mat):\n",
    "    max_attempts = 10  # 최대 시도 횟수 설정\n",
    "    attempts = 0\n",
    "\n",
    "    while attempts < max_attempts:\n",
    "        mutated_solution = solution[:]\n",
    "        \n",
    "        # 돌연변이 연산 예시: 랜덤하게 하나의 묶음을 선택하여 순서를 변경\n",
    "        bundle_index = random.randint(0, len(mutated_solution) - 1)\n",
    "        bundle_info = mutated_solution[bundle_index]\n",
    "        \n",
    "        # 픽업 순서와 배달 순서를 무작위로 섞기\n",
    "        random.shuffle(bundle_info[1])\n",
    "        random.shuffle(bundle_info[2])\n",
    "        \n",
    "        # 새로운 해가 유효한지 확인\n",
    "        if is_feasible(mutated_solution, K, all_orders, all_riders, dist_mat):\n",
    "            return mutated_solution\n",
    "        \n",
    "        attempts += 1\n",
    "\n",
    "    # 최대 시도 횟수를 초과한 경우 원래 해를 반환\n",
    "    return solution\n"
   ]
  },
  {
   "cell_type": "markdown",
   "metadata": {},
   "source": [
    "6.Replacement(Generation change, Keeping the best solution using elitism)"
   ]
  },
  {
   "cell_type": "code",
   "execution_count": 14,
   "metadata": {},
   "outputs": [],
   "source": [
    "def replacement(population, new_population, K, all_orders, all_riders, dist_mat, elite_size=2):\n",
    "    # 기존 세대와 새로운 세대를 결합\n",
    "    combined_population = population + new_population\n",
    "\n",
    "    # 적합도 순으로 정렬 (적합도 함수가 낮을수록 좋은 해)\n",
    "    combined_population.sort(key=lambda sol: fitness(sol, K, all_orders, all_riders, dist_mat))\n",
    "\n",
    "    # 엘리트 해 유지\n",
    "    next_generation = combined_population[:elite_size]\n",
    "\n",
    "    # 나머지 새로운 해들로 채우기\n",
    "    next_generation += random.sample(combined_population[elite_size:], len(population) - elite_size)\n",
    "\n",
    "    return next_generation\n"
   ]
  },
  {
   "cell_type": "markdown",
   "metadata": {},
   "source": [
    "7. Genetic_Algorithm"
   ]
  },
  {
   "cell_type": "code",
   "execution_count": 15,
   "metadata": {},
   "outputs": [],
   "source": [
    "def genetic_algorithm(K, all_orders, all_riders, dist_mat, population_size=50, generations=100, crossover_rate=0.8, mutation_rate=0.05, elite_size=2, timelimit=60):\n",
    "    start_time = time.time()\n",
    "\n",
    "    # 초기 해 생성\n",
    "    population = initialize_population(K, all_orders, all_riders, dist_mat, population_size, timelimit)\n",
    "    \n",
    "    best_solution = None\n",
    "    best_fitness = float('inf')\n",
    "\n",
    "    for generation in range(generations):\n",
    "        if time.time() - start_time > timelimit:\n",
    "            print(\"Time limit reached.\")\n",
    "            break\n",
    "\n",
    "        # 적합도 계산\n",
    "        population_fitness = [fitness(solution, K, all_orders, all_riders, dist_mat) for solution in population]\n",
    "\n",
    "        # 현재 세대에서 최적 해 찾기\n",
    "        current_best_solution = min(population, key=lambda sol: fitness(sol, K, all_orders, all_riders, dist_mat))\n",
    "        current_best_fitness = fitness(current_best_solution, K, all_orders, all_riders, dist_mat)\n",
    "\n",
    "        if current_best_fitness < best_fitness:\n",
    "            best_solution = current_best_solution\n",
    "            best_fitness = current_best_fitness\n",
    "            print(f\"Generation {generation}: New best fitness = {best_fitness}\")\n",
    "\n",
    "        # 선택\n",
    "        selected_population = select_population(population, population_fitness, population_size)\n",
    "\n",
    "        # 교차\n",
    "        new_population = []\n",
    "        for i in range(0, len(selected_population), 2):\n",
    "            parent1 = selected_population[i]\n",
    "            parent2 = selected_population[i + 1] if i + 1 < len(selected_population) else selected_population[0]\n",
    "            if random.random() < crossover_rate:\n",
    "                child1, child2 = crossover(parent1, parent2, K, all_orders, dist_mat)\n",
    "                new_population.extend([child1, child2])\n",
    "            else:\n",
    "                new_population.extend([parent1, parent2])\n",
    "\n",
    "        # 돌연변이\n",
    "        for i in range(len(new_population)):\n",
    "            if random.random() < mutation_rate:\n",
    "                mutated_solution = mutate(new_population[i], K, all_orders, all_riders, dist_mat)\n",
    "                if is_feasible(mutated_solution, K, all_orders, all_riders, dist_mat):\n",
    "                    new_population[i] = mutated_solution\n",
    "\n",
    "        # 대체\n",
    "        population = replacement(population, new_population, K, all_orders, all_riders, dist_mat, elite_size)\n",
    "\n",
    "    # 최적 해 반환\n",
    "    return best_solution\n"
   ]
  }
 ],
 "metadata": {
  "kernelspec": {
   "display_name": "ogc2024",
   "language": "python",
   "name": "python3"
  },
  "language_info": {
   "codemirror_mode": {
    "name": "ipython",
    "version": 3
   },
   "file_extension": ".py",
   "mimetype": "text/x-python",
   "name": "python",
   "nbconvert_exporter": "python",
   "pygments_lexer": "ipython3",
   "version": "3.10.13"
  }
 },
 "nbformat": 4,
 "nbformat_minor": 2
}
